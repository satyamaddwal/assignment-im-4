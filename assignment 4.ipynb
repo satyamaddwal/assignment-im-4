{
 "cells": [
  {
   "cell_type": "code",
   "execution_count": 30,
   "id": "0c44f8d2-5738-4489-98d7-07b342b9fdce",
   "metadata": {},
   "outputs": [],
   "source": [
    "''' Question 1. Explain Class and Object with respect to Object-Oriented Programming. Give a suitable example.  '''\n",
    "\n",
    "# solution\n",
    "\n",
    "\"\"\" A class is a blueprint or template for creating objects in python. An object is an instance of a class that has specific \n",
    "values for the attributes and methods defined by the class.for example we can create a class named company employees that has attributes\n",
    "like phone number, email id, employee id. than we can create objects of the class company employees, such as rohan, sohan,\n",
    "mohan etc. and assign different values to their attributes and call their methods.  \"\"\"\n",
    "\n",
    "class company_employees:\n",
    "    def __init__(self,phone_number, email_id, employee_id):\n",
    "        self.phone_number = phone_number\n",
    "        self.email_id = email_id\n",
    "        self.employee_id = employee_id\n",
    "        \n",
    "    def company_employee_details(self):\n",
    "        return self.phone_number, self.email_id, self.employee_id"
   ]
  },
  {
   "cell_type": "code",
   "execution_count": 31,
   "id": "067bc960-bfb6-482f-9d37-8bc8c6092a55",
   "metadata": {},
   "outputs": [],
   "source": [
    "rohan = company_employees(7326496469,'rohan@gmail.com', 567)"
   ]
  },
  {
   "cell_type": "code",
   "execution_count": 32,
   "id": "66bdf5c9-3a99-4cbe-af8e-ac656929fcd8",
   "metadata": {},
   "outputs": [
    {
     "data": {
      "text/plain": [
       "7326496469"
      ]
     },
     "execution_count": 32,
     "metadata": {},
     "output_type": "execute_result"
    }
   ],
   "source": [
    "rohan.phone_number"
   ]
  },
  {
   "cell_type": "code",
   "execution_count": 33,
   "id": "a60cf60a-f8f2-40ea-8c61-da7b41348a8c",
   "metadata": {},
   "outputs": [
    {
     "data": {
      "text/plain": [
       "(7326496469, 'rohan@gmail.com', 567)"
      ]
     },
     "execution_count": 33,
     "metadata": {},
     "output_type": "execute_result"
    }
   ],
   "source": [
    "rohan.company_employee_details()"
   ]
  },
  {
   "cell_type": "code",
   "execution_count": null,
   "id": "7573759b-edb3-420e-b6a3-99c7ff4c685a",
   "metadata": {},
   "outputs": [],
   "source": [
    "''' Question 2. Name the four pillars of OOPs.  '''\n",
    "\n",
    "# solution\n",
    "'''\n",
    "1. Abstraction\n",
    "2. Encapsulation\n",
    "3. Inheritance\n",
    "4. Polymorphism\n"
   ]
  },
  {
   "cell_type": "code",
   "execution_count": 1,
   "id": "3c7cfc4e-c28a-41ec-8ff4-780c2f9c2fec",
   "metadata": {},
   "outputs": [],
   "source": [
    "''' Question 3. Explain why the __init__() function is used. Give a suitable example  '''\n",
    "\n",
    "# solutiion\n",
    "\n",
    "''' The __init__() function is used in Python to initialize the attributes of an object when it is created. It is also called\n",
    "a constructor. The __init__() function is automatically called when a new instance of a class is created. It allows you to \n",
    "assign values to the object’s attributes or perform other operations that are necessary for the object’s creation.  '''\n",
    "\n",
    "class student:\n",
    "    def __init__(self, name, rollno, marks):\n",
    "        self.name = name\n",
    "        self.rollno = rollno\n",
    "        self.marks = marks\n",
    "        \n",
    "    def display(self):\n",
    "        return self.name, self.rollno, self.marks"
   ]
  },
  {
   "cell_type": "code",
   "execution_count": 3,
   "id": "8c896f67-d026-4d8f-b2a9-777e06ca5679",
   "metadata": {},
   "outputs": [],
   "source": [
    "s1 = student(\"riya\",43,90)"
   ]
  },
  {
   "cell_type": "code",
   "execution_count": 4,
   "id": "dda6a6fe-484d-49f2-a179-996849933d92",
   "metadata": {},
   "outputs": [
    {
     "data": {
      "text/plain": [
       "('riya', 43, 90)"
      ]
     },
     "execution_count": 4,
     "metadata": {},
     "output_type": "execute_result"
    }
   ],
   "source": [
    "s1.display()"
   ]
  },
  {
   "cell_type": "code",
   "execution_count": null,
   "id": "9fc0543c-706c-4d04-b32b-0c83a702fb7e",
   "metadata": {},
   "outputs": [],
   "source": [
    "''' Question 4. Why self is used in OOPs?  '''\n",
    "\n",
    "# solution\n",
    "''' Self is used in OOPs to refer to the current instance of a class. It allows you to access and modify the attributes and\n",
    "methods of the object from within the class. Self is not a keyword in Python, it is just a convention for the first parameter\n",
    "of a class method. You can use any other name instead of self, but it is not recommended. Self makes the code more readable\n",
    "and consistent with other object-oriented languages.  '''"
   ]
  },
  {
   "cell_type": "code",
   "execution_count": 1,
   "id": "8a58c04b-a951-4413-bcea-bd9c463005d1",
   "metadata": {},
   "outputs": [],
   "source": [
    "''' Question 5. What is inheritance? Give an example for each type of inheritance.  '''\n",
    "\n",
    "# solution\n",
    "'''\n",
    "inheritance allows a class to derive properties and characterstics from another class. in other words, it enables code reuse by\n",
    "creating new classes based on existing ones.\n",
    "'''\n",
    "\n",
    "class class1():\n",
    "    def student1(self):\n",
    "        return 'student1 is good'"
   ]
  },
  {
   "cell_type": "code",
   "execution_count": 2,
   "id": "d34fe2e9-2a07-45ae-9a36-39a36f9760c5",
   "metadata": {},
   "outputs": [],
   "source": [
    "class class2(class1):\n",
    "    def student2(self):\n",
    "        return 'student2 is average'"
   ]
  },
  {
   "cell_type": "code",
   "execution_count": 3,
   "id": "92891c9c-a3a0-46a3-a9d7-4c476ecdbe38",
   "metadata": {},
   "outputs": [],
   "source": [
    "class class3(class2):\n",
    "    pass"
   ]
  },
  {
   "cell_type": "code",
   "execution_count": 4,
   "id": "397ea9e1-3d45-4e4e-9a06-ceb55eb04e47",
   "metadata": {},
   "outputs": [],
   "source": [
    "object_class3 = class3()"
   ]
  },
  {
   "cell_type": "code",
   "execution_count": 5,
   "id": "42e35d61-21b2-4720-889d-dc2be5adfa75",
   "metadata": {},
   "outputs": [
    {
     "data": {
      "text/plain": [
       "'student1 is good'"
      ]
     },
     "execution_count": 5,
     "metadata": {},
     "output_type": "execute_result"
    }
   ],
   "source": [
    "object_class3.student1()"
   ]
  },
  {
   "cell_type": "code",
   "execution_count": null,
   "id": "d3818301-0d11-49ea-8384-b206885ff70b",
   "metadata": {},
   "outputs": [],
   "source": []
  }
 ],
 "metadata": {
  "kernelspec": {
   "display_name": "Python 3 (ipykernel)",
   "language": "python",
   "name": "python3"
  },
  "language_info": {
   "codemirror_mode": {
    "name": "ipython",
    "version": 3
   },
   "file_extension": ".py",
   "mimetype": "text/x-python",
   "name": "python",
   "nbconvert_exporter": "python",
   "pygments_lexer": "ipython3",
   "version": "3.10.8"
  }
 },
 "nbformat": 4,
 "nbformat_minor": 5
}
